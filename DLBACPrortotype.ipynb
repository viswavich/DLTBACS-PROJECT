{
  "nbformat": 4,
  "nbformat_minor": 0,
  "metadata": {
    "colab": {
      "provenance": [],
      "authorship_tag": "ABX9TyOdwaL9+zHsld5rBmOcoYR7",
      "include_colab_link": true
    },
    "kernelspec": {
      "name": "python3",
      "display_name": "Python 3"
    },
    "language_info": {
      "name": "python"
    }
  },
  "cells": [
    {
      "cell_type": "markdown",
      "metadata": {
        "id": "view-in-github",
        "colab_type": "text"
      },
      "source": [
        "<a href=\"https://colab.research.google.com/github/viswavich/DLTBACS-PROJECT/blob/main/DLBACPrortotype.ipynb\" target=\"_parent\"><img src=\"https://colab.research.google.com/assets/colab-badge.svg\" alt=\"Open In Colab\"/></a>"
      ]
    },
    {
      "cell_type": "code",
      "source": [
        "# Sample user and resource metadata (encoded numerically)\n",
        "user_metadata = {\n",
        "    'user1': [1, 2, 3, 4],  # Example: [role, department, clearance, login_time]\n",
        "    'user2': [0, 1, 1, 2]\n",
        "}\n",
        "\n",
        "resource_metadata = {\n",
        "    'resourceA': [1, 0, 2, 0],  # Example: [resource_type, sensitivity, owner_group, time_restriction]\n",
        "    'resourceB': [0, 1, 1, 1]\n",
        "}"
      ],
      "metadata": {
        "id": "QAidrjn1asKm"
      },
      "execution_count": 7,
      "outputs": []
    },
    {
      "cell_type": "code",
      "source": [
        "# Dummy learned weights (normally these are learned from training)\n",
        "weights_user = [0.4, 0.3, 0.2, 0.1]\n",
        "weights_resource = [0.3, 0.4, 0.2, 0.1]\n",
        "threshold = 2.0  # Threshold to decide Grant or Deny"
      ],
      "metadata": {
        "id": "GW8vf5jZavzg"
      },
      "execution_count": 3,
      "outputs": []
    },
    {
      "cell_type": "code",
      "source": [
        "def predict_access(user_data, resource_data, w_user, w_resource, threshold):\n",
        "    # Calculate weighted sum\n",
        "    user_score = sum(u * w for u, w in zip(user_data, w_user))\n",
        "    resource_score = sum(r * w for r, w in zip(resource_data, w_resource))\n",
        "    total_score = user_score + resource_score\n",
        "\n",
        "    # Decision\n",
        "    decision = \"Access Granted ✅\" if total_score >= threshold else \"Access Denied ❌\"\n",
        "\n",
        "    # Explainable Output\n",
        "    print(f\"User Score: {user_score:.2f}, Resource Score: {resource_score:.2f}, Total: {total_score:.2f}\")\n",
        "    print(f\"Decision: {decision}\")\n",
        "\n",
        "    return decision\n"
      ],
      "metadata": {
        "id": "tPNCSIE7a3Km"
      },
      "execution_count": 4,
      "outputs": []
    },
    {
      "cell_type": "code",
      "source": [
        "# Input: user1 trying to access resourceA\n",
        "user = user_metadata['user1']\n",
        "resource = resource_metadata['resourceA']\n",
        "\n",
        "print(\"Access Request: user1 -> resourceA\")\n",
        "predict_access(user, resource, weights_user, weights_resource, threshold)\n",
        "\n",
        "print(\"\\nAccess Request: user2 -> resourceB\")\n",
        "user = user_metadata['user2']\n",
        "resource = resource_metadata['resourceB']\n",
        "predict_access(user, resource, weights_user, weights_resource, threshold)"
      ],
      "metadata": {
        "colab": {
          "base_uri": "https://localhost:8080/",
          "height": 163
        },
        "id": "q7HVnT-Va55X",
        "outputId": "79bf8999-6b42-4404-b1ee-d534c96b7eec"
      },
      "execution_count": 8,
      "outputs": [
        {
          "output_type": "stream",
          "name": "stdout",
          "text": [
            "Access Request: user1 -> resourceA\n",
            "User Score: 2.00, Resource Score: 0.70, Total: 2.70\n",
            "Decision: Access Granted ✅\n",
            "\n",
            "Access Request: user2 -> resourceB\n",
            "User Score: 0.70, Resource Score: 0.70, Total: 1.40\n",
            "Decision: Access Denied ❌\n"
          ]
        },
        {
          "output_type": "execute_result",
          "data": {
            "text/plain": [
              "'Access Denied ❌'"
            ],
            "application/vnd.google.colaboratory.intrinsic+json": {
              "type": "string"
            }
          },
          "metadata": {},
          "execution_count": 8
        }
      ]
    }
  ]
}