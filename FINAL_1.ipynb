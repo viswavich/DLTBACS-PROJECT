{
  "nbformat": 4,
  "nbformat_minor": 0,
  "metadata": {
    "colab": {
      "provenance": [],
      "authorship_tag": "ABX9TyNoiqJg8nUHdW4JeIgv/kgs",
      "include_colab_link": true
    },
    "kernelspec": {
      "name": "python3",
      "display_name": "Python 3"
    },
    "language_info": {
      "name": "python"
    }
  },
  "cells": [
    {
      "cell_type": "markdown",
      "metadata": {
        "id": "view-in-github",
        "colab_type": "text"
      },
      "source": [
        "<a href=\"https://colab.research.google.com/github/viswavich/DLTBACS-PROJECT/blob/main/FINAL_1.ipynb\" target=\"_parent\"><img src=\"https://colab.research.google.com/assets/colab-badge.svg\" alt=\"Open In Colab\"/></a>"
      ]
    },
    {
      "cell_type": "code",
      "execution_count": 1,
      "metadata": {
        "id": "XV4su1xjBqgp"
      },
      "outputs": [],
      "source": [
        "# Install libraries (if not already installed)\n",
        "!pip install -q pandas numpy scikit-learn tensorflow"
      ]
    },
    {
      "cell_type": "code",
      "source": [
        "import pandas as pd\n",
        "import numpy as np\n",
        "from sklearn.preprocessing import LabelEncoder\n",
        "from tensorflow.keras.models import load_model"
      ],
      "metadata": {
        "id": "jwy-vaxeCFXL"
      },
      "execution_count": 2,
      "outputs": []
    },
    {
      "cell_type": "code",
      "source": [
        "# Load encoded and raw (lookup) datasets\n",
        "df_encoded = pd.read_csv('/content/IT_Company_1000_Employees_Encoded.csv')\n",
        "df_lookup = pd.read_csv('/content/Employee_Metadata_Lookup.csv')\n",
        "\n",
        "# Load trained model (upload your model.h5 file)\n",
        "model = load_model('/content/dlbac_light_model.h5')  # Upload your trained model file"
      ],
      "metadata": {
        "colab": {
          "base_uri": "https://localhost:8080/"
        },
        "id": "0wCW6hAPCK5r",
        "outputId": "defeb3d3-96b6-4395-d6fb-07b4f490ce8f"
      },
      "execution_count": 3,
      "outputs": [
        {
          "output_type": "stream",
          "name": "stderr",
          "text": [
            "WARNING:absl:Compiled the loaded model, but the compiled metrics have yet to be built. `model.compile_metrics` will be empty until you train or evaluate the model.\n"
          ]
        }
      ]
    },
    {
      "cell_type": "code",
      "source": [
        "# Encode all needed columns using LabelEncoder\n",
        "label_cols = ['DEPT', 'ROLE', 'ACCESS_TIME', 'DEVICE_TRUST', 'RESOURCE_TYPE', 'SENSITIVITY_LEVEL']\n",
        "encoders = {}\n",
        "for col in label_cols:\n",
        "    le = LabelEncoder()\n",
        "    le.fit(df_lookup[col])\n",
        "    encoders[col] = le"
      ],
      "metadata": {
        "id": "p1Q5YccGCPtL"
      },
      "execution_count": 4,
      "outputs": []
    },
    {
      "cell_type": "code",
      "source": [
        "def get_access_decision(emp_id, resource_id):\n",
        "    # Lookup record\n",
        "    record = df_lookup[(df_lookup['EMP_ID'] == emp_id) & (df_lookup['RESOURCE_ID'] == resource_id)]\n",
        "\n",
        "    if record.empty:\n",
        "        return \"🚫 Invalid EMP_ID or RESOURCE_ID\", None\n",
        "\n",
        "    # Display user role and dept\n",
        "    role = record['ROLE'].values[0]\n",
        "    dept = record['DEPT'].values[0]\n",
        "    print(f\"🔍 Found Record: Role = {role}, Department = {dept}\\n\")\n",
        "\n",
        "    # Encode features\n",
        "    features = [\n",
        "        encoders['DEPT'].transform([record['DEPT'].values[0]])[0],\n",
        "        encoders['ROLE'].transform([record['ROLE'].values[0]])[0],\n",
        "        encoders['ACCESS_TIME'].transform([record['ACCESS_TIME'].values[0]])[0],\n",
        "        encoders['DEVICE_TRUST'].transform([record['DEVICE_TRUST'].values[0]])[0],\n",
        "        encoders['RESOURCE_TYPE'].transform([record['RESOURCE_TYPE'].values[0]])[0],\n",
        "        encoders['SENSITIVITY_LEVEL'].transform([record['SENSITIVITY_LEVEL'].values[0]])[0],\n",
        "    ]\n",
        "\n",
        "    # Predict using model\n",
        "    pred = model.predict(np.array(features).reshape(1, -1))[0][0]\n",
        "    decision = \"✅ Access Granted\" if pred >= 0.5 else \"❌ Access Denied\"\n",
        "    print(f\"Prediction Score: {round(pred, 4)}\")\n",
        "    return decision, round(pred, 4)"
      ],
      "metadata": {
        "id": "hLJYVWmCCUEz"
      },
      "execution_count": 5,
      "outputs": []
    },
    {
      "cell_type": "code",
      "source": [
        "# Example: You can change the EMP_ID and RESOURCE_ID based on your CSV\n",
        "emp_id = 1013\n",
        "resource_id = 'res974'\n",
        "\n",
        "result, score = get_access_decision(emp_id, resource_id)\n",
        "print(\"📢 Access Decision:\", result)"
      ],
      "metadata": {
        "colab": {
          "base_uri": "https://localhost:8080/"
        },
        "id": "wSC5lPSDCYbj",
        "outputId": "90bf0dcc-b92b-4331-d696-4297ce21ea8f"
      },
      "execution_count": 7,
      "outputs": [
        {
          "output_type": "stream",
          "name": "stdout",
          "text": [
            "🔍 Found Record: Role = Support, Department = R&D\n",
            "\n",
            "\u001b[1m1/1\u001b[0m \u001b[32m━━━━━━━━━━━━━━━━━━━━\u001b[0m\u001b[37m\u001b[0m \u001b[1m0s\u001b[0m 116ms/step\n",
            "Prediction Score: 0.8877999782562256\n",
            "📢 Access Decision: ✅ Access Granted\n"
          ]
        }
      ]
    },
    {
      "cell_type": "markdown",
      "source": [
        "SAMPLE OUTPUT AND REASON\n",
        "\n",
        "👤 EMP_ID: 1013\n",
        "📂 RESOURCE_ID: res404\n",
        "\n",
        "🔎 Role: Developer  \n",
        "🏢 Department: IT\n",
        "\n",
        "🧠 AI Model Decision:\n",
        "✅ Access Granted  \n",
        "Confidence: 0.89\n",
        "\n",
        "Why? → Trusted device, role matches low sensitivity access"
      ],
      "metadata": {
        "id": "kS9vf043C8F7"
      }
    }
  ]
}