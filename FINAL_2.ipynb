{
  "nbformat": 4,
  "nbformat_minor": 0,
  "metadata": {
    "colab": {
      "provenance": [],
      "authorship_tag": "ABX9TyOGsZuy/mEnH+W/9QPd7oDN",
      "include_colab_link": true
    },
    "kernelspec": {
      "name": "python3",
      "display_name": "Python 3"
    },
    "language_info": {
      "name": "python"
    }
  },
  "cells": [
    {
      "cell_type": "markdown",
      "metadata": {
        "id": "view-in-github",
        "colab_type": "text"
      },
      "source": [
        "<a href=\"https://colab.research.google.com/github/viswavich/DLTBACS-PROJECT/blob/main/FINAL_2.ipynb\" target=\"_parent\"><img src=\"https://colab.research.google.com/assets/colab-badge.svg\" alt=\"Open In Colab\"/></a>"
      ]
    },
    {
      "cell_type": "code",
      "execution_count": 1,
      "metadata": {
        "id": "NmnapxSgEC6Z"
      },
      "outputs": [],
      "source": [
        "# ✅ STEP 1: Install dependencies (Run only in Colab)\n",
        "!pip install -q pandas numpy scikit-learn tensorflow shap matplotlib"
      ]
    },
    {
      "cell_type": "code",
      "source": [
        "# ✅ STEP 2: Import libraries\n",
        "import pandas as pd\n",
        "import numpy as np\n",
        "import shap\n",
        "import matplotlib.pyplot as plt\n",
        "from sklearn.preprocessing import LabelEncoder\n",
        "from tensorflow.keras.models import load_model"
      ],
      "metadata": {
        "id": "Zo-6TDNAFMCE"
      },
      "execution_count": 2,
      "outputs": []
    },
    {
      "cell_type": "code",
      "source": [
        "# ✅ STEP 3: Load datasets and trained model\n",
        "df = pd.read_csv(\"/content/Employee_Metadata_Lookup.csv\")  # Original CSV (non-encoded)\n",
        "df_encoded = pd.read_csv(\"/content/IT_Company_1000_Employees_Encoded.csv\")  # Encoded for SHAP\n",
        "model = load_model(\"/content/dlbac_light_model.h5\")  # Trained lightweight model"
      ],
      "metadata": {
        "colab": {
          "base_uri": "https://localhost:8080/"
        },
        "id": "C03sBPMCFSnq",
        "outputId": "c3eca4cf-b22e-4fb9-8195-21bb6c054b65"
      },
      "execution_count": 4,
      "outputs": [
        {
          "output_type": "stream",
          "name": "stderr",
          "text": [
            "WARNING:absl:Compiled the loaded model, but the compiled metrics have yet to be built. `model.compile_metrics` will be empty until you train or evaluate the model.\n"
          ]
        }
      ]
    },
    {
      "cell_type": "code",
      "source": [
        "# ✅ STEP 4: Prepare encoders\n",
        "label_cols = ['DEPT', 'ROLE', 'ACCESS_TIME', 'DEVICE_TRUST', 'RESOURCE_TYPE', 'SENSITIVITY_LEVEL']\n",
        "encoders = {}\n",
        "for col in label_cols:\n",
        "    le = LabelEncoder()\n",
        "    le.fit(df[col])\n",
        "    encoders[col] = le"
      ],
      "metadata": {
        "id": "DksL9PBdFhvL"
      },
      "execution_count": 5,
      "outputs": []
    },
    {
      "cell_type": "code",
      "source": [
        "# ✅ STEP 5: Access Prediction Function\n",
        "def get_access_decision(emp_id, resource_id):\n",
        "    record = df[(df['EMP_ID'] == emp_id) & (df['RESOURCE_ID'] == resource_id)]\n",
        "\n",
        "    if record.empty:\n",
        "        return None, None, \"❌ Invalid EMP_ID or RESOURCE_ID\"\n",
        "\n",
        "    print(f\"🔍 Role: {record['ROLE'].values[0]}, Department: {record['DEPT'].values[0]}\")\n",
        "\n",
        "    features = [\n",
        "        encoders['DEPT'].transform([record['DEPT'].values[0]])[0],\n",
        "        encoders['ROLE'].transform([record['ROLE'].values[0]])[0],\n",
        "        encoders['ACCESS_TIME'].transform([record['ACCESS_TIME'].values[0]])[0],\n",
        "        encoders['DEVICE_TRUST'].transform([record['DEVICE_TRUST'].values[0]])[0],\n",
        "        encoders['RESOURCE_TYPE'].transform([record['RESOURCE_TYPE'].values[0]])[0],\n",
        "        encoders['SENSITIVITY_LEVEL'].transform([record['SENSITIVITY_LEVEL'].values[0]])[0]\n",
        "    ]\n",
        "\n",
        "    input_vector = np.array(features).reshape(1, -1)\n",
        "    prediction = model.predict(input_vector)[0][0]\n",
        "    decision = \"✅ Access Granted\" if prediction >= 0.5 else \"❌ Access Denied\"\n",
        "    print(\"🔐 Access Decision:\", decision)\n",
        "    print(\"🧠 Confidence Score:\", round(prediction, 4))\n",
        "\n",
        "    return input_vector, record, prediction"
      ],
      "metadata": {
        "id": "aZ7p2vgGFmmj"
      },
      "execution_count": 6,
      "outputs": []
    },
    {
      "cell_type": "code",
      "source": [
        "# ✅ STEP 6: Run the Application\n",
        "emp_id = 1013  # <-- Change to valid EMP_ID\n",
        "resource_id = 'res404'  # <-- Change to valid RESOURCE_ID from your CSV\n",
        "\n",
        "input_vector, record, pred = get_access_decision(emp_id, resource_id)"
      ],
      "metadata": {
        "id": "-BPVV7vJFraj"
      },
      "execution_count": 7,
      "outputs": []
    },
    {
      "cell_type": "code",
      "source": [
        "# ✅ STEP 7: SHAP Explanation (XAI)\n",
        "if input_vector is not None:\n",
        "    explainer = shap.Explainer(model, df_encoded.drop(['EMP_ID', 'RESOURCE_ID', 'ACTION'], axis=1).values)\n",
        "    shap_values = explainer(input_vector)\n",
        "    shap.plots.waterfall(shap_values[0])"
      ],
      "metadata": {
        "id": "TUem8sM7F10i"
      },
      "execution_count": 8,
      "outputs": []
    },
    {
      "cell_type": "code",
      "source": [
        "# ✅ STEP 8: Adversarial Input Simulation (Security)\n",
        "def adversarial_input(data):\n",
        "    noise = np.random.normal(0, 0.1, data.shape)\n",
        "    return data + noise\n",
        "\n",
        "if input_vector is not None:\n",
        "    adv_input = adversarial_input(input_vector)\n",
        "    adv_pred = model.predict(adv_input)[0][0]\n",
        "    adv_decision = \"✅ Access Granted\" if adv_pred >= 0.5 else \"❌ Access Denied\"\n",
        "    print(\"⚠️ Adversarial Test:\")\n",
        "    print(\"Prediction:\", round(adv_pred, 4), \"|\", adv_decision)"
      ],
      "metadata": {
        "id": "yxpIFZHnF3iE"
      },
      "execution_count": 9,
      "outputs": []
    },
    {
      "cell_type": "code",
      "source": [
        "emp_id = 1013\n",
        "resource_id = 'res974'\n",
        "input_vector, record, pred = get_access_decision(emp_id, resource_id)"
      ],
      "metadata": {
        "colab": {
          "base_uri": "https://localhost:8080/"
        },
        "id": "Wv6P6jfzHGdb",
        "outputId": "22951f52-6786-4e01-cbc0-89dec1c5beee"
      },
      "execution_count": 29,
      "outputs": [
        {
          "output_type": "stream",
          "name": "stdout",
          "text": [
            "🔍 Role: Support, Department: R&D\n",
            "\u001b[1m1/1\u001b[0m \u001b[32m━━━━━━━━━━━━━━━━━━━━\u001b[0m\u001b[37m\u001b[0m \u001b[1m0s\u001b[0m 43ms/step\n",
            "🔐 Access Decision: ✅ Access Granted\n",
            "🧠 Confidence Score: 0.8878\n"
          ]
        }
      ]
    },
    {
      "cell_type": "code",
      "source": [
        "def get_access_decision(emp_id, resource_id):\n",
        "    record = df[(df['EMP_ID'] == emp_id) & (df['RESOURCE_ID'] == resource_id)]\n",
        "\n",
        "    if record.empty:\n",
        "        print(\"❌ ERROR: Invalid EMP_ID or RESOURCE_ID. Please try again.\")\n",
        "        return None, None, None  # return gracefully\n",
        "\n",
        "    print(f\"🔍 Role: {record['ROLE'].values[0]}, Department: {record['DEPT'].values[0]}\")\n",
        "\n",
        "    features = [\n",
        "        encoders['DEPT'].transform([record['DEPT'].values[0]])[0],\n",
        "        encoders['ROLE'].transform([record['ROLE'].values[0]])[0],\n",
        "        encoders['ACCESS_TIME'].transform([record['ACCESS_TIME'].values[0]])[0],\n",
        "        encoders['DEVICE_TRUST'].transform([record['DEVICE_TRUST'].values[0]])[0],\n",
        "        encoders['RESOURCE_TYPE'].transform([record['RESOURCE_TYPE'].values[0]])[0],\n",
        "        encoders['SENSITIVITY_LEVEL'].transform([record['SENSITIVITY_LEVEL'].values[0]])[0]\n",
        "    ]\n",
        "\n",
        "    input_vector = np.array(features).reshape(1, -1)\n",
        "    prediction = model.predict(input_vector)[0][0]\n",
        "    decision = \"✅ Access Granted\" if prediction >= 0.5 else \"❌ Access Denied\"\n",
        "    print(\"🔐 Access Decision:\", decision)\n",
        "    print(\"🧠 Confidence Score:\", round(prediction, 4))\n",
        "\n",
        "    return input_vector, record, prediction"
      ],
      "metadata": {
        "id": "e6smSfkIIhk7"
      },
      "execution_count": 25,
      "outputs": []
    },
    {
      "cell_type": "code",
      "source": [
        "# Example: You can change the EMP_ID and RESOURCE_ID based on your CSV\n",
        "emp_id = 1013\n",
        "resource_id = 'res977'\n",
        "\n",
        "input_vector, record, pred = get_access_decision(emp_id, resource_id)"
      ],
      "metadata": {
        "colab": {
          "base_uri": "https://localhost:8080/"
        },
        "id": "H9uDHQz_Ipeu",
        "outputId": "cb8f0220-043e-41e1-c8d7-730e0ec3cc24"
      },
      "execution_count": 30,
      "outputs": [
        {
          "output_type": "stream",
          "name": "stdout",
          "text": [
            "❌ ERROR: Invalid EMP_ID or RESOURCE_ID. Please try again.\n"
          ]
        }
      ]
    }
  ]
}