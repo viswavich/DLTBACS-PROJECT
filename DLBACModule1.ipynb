{
  "nbformat": 4,
  "nbformat_minor": 0,
  "metadata": {
    "colab": {
      "provenance": [],
      "authorship_tag": "ABX9TyMtn46NhWaLIdwjLBlrqLW7",
      "include_colab_link": true
    },
    "kernelspec": {
      "name": "python3",
      "display_name": "Python 3"
    },
    "language_info": {
      "name": "python"
    }
  },
  "cells": [
    {
      "cell_type": "markdown",
      "metadata": {
        "id": "view-in-github",
        "colab_type": "text"
      },
      "source": [
        "<a href=\"https://colab.research.google.com/github/viswavich/DLTBACS-PROJECT/blob/main/DLBACModule1.ipynb\" target=\"_parent\"><img src=\"https://colab.research.google.com/assets/colab-badge.svg\" alt=\"Open In Colab\"/></a>"
      ]
    },
    {
      "cell_type": "code",
      "execution_count": 1,
      "metadata": {
        "colab": {
          "base_uri": "https://localhost:8080/"
        },
        "id": "B6Mu7vlab4Iv",
        "outputId": "59a940d3-df7d-45bc-86d8-0c1c3f4b6408"
      },
      "outputs": [
        {
          "output_type": "stream",
          "name": "stdout",
          "text": [
            "Access Granted ✅\n"
          ]
        }
      ],
      "source": [
        "user_metadata = [2, 1, 0, 3]\n",
        "resource_metadata = [1, 3, 2, 0]\n",
        "weights = [0.3, 0.4, 0.2, 0.5]\n",
        "\n",
        "def predict_access(user, resource, weights):\n",
        "    score = sum(u * w for u, w in zip(user, weights)) + sum(r * w for r, w in zip(resource, weights))\n",
        "    if score > 2.5:\n",
        "        return \"Access Granted ✅\"\n",
        "    else:\n",
        "        return \"Access Denied ❌\"\n",
        "\n",
        "print(predict_access(user_metadata, resource_metadata, weights))\n"
      ]
    },
    {
      "cell_type": "code",
      "source": [
        "import kagglehub\n",
        "\n",
        "# Download latest version\n",
        "path = kagglehub.dataset_download(\"lucamassaron/amazon-employee-access-challenge\")\n",
        "\n",
        "print(\"Path to dataset files:\", path)"
      ],
      "metadata": {
        "colab": {
          "base_uri": "https://localhost:8080/"
        },
        "id": "F2C1cy9Nh8K3",
        "outputId": "01ab9871-cf4d-4ba0-8526-5017e186048d"
      },
      "execution_count": 3,
      "outputs": [
        {
          "output_type": "stream",
          "name": "stdout",
          "text": [
            "Path to dataset files: /kaggle/input/amazon-employee-access-challenge\n"
          ]
        }
      ]
    }
  ]
}